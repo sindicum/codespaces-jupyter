{
 "cells": [
  {
   "cell_type": "code",
   "execution_count": 1,
   "metadata": {},
   "outputs": [],
   "source": [
    "from PIL import Image\n",
    "import numpy as np"
   ]
  },
  {
   "cell_type": "code",
   "execution_count": 2,
   "metadata": {},
   "outputs": [],
   "source": [
    "# 画像を読み込み、グレースケールに変換\n",
    "image_path = '../data/sample1.jpg'\n",
    "image = Image.open(image_path).convert('L')\n",
    "\n",
    "# 画像をnumpy配列に変換\n",
    "image_array = np.array(image)\n",
    "\n",
    "# ピクセル値は黒0、白255"
   ]
  },
  {
   "cell_type": "code",
   "execution_count": 3,
   "metadata": {},
   "outputs": [
    {
     "data": {
      "text/plain": [
       "(1920, 1080)"
      ]
     },
     "execution_count": 3,
     "metadata": {},
     "output_type": "execute_result"
    }
   ],
   "source": [
    "# 画像サイズの確認\n",
    "image_array.shape"
   ]
  },
  {
   "cell_type": "code",
   "execution_count": 4,
   "metadata": {},
   "outputs": [
    {
     "name": "stdout",
     "output_type": "stream",
     "text": [
      "濃いピクセルの割合: 95.14%\n"
     ]
    }
   ],
   "source": [
    "# しきい値を設定（例：128）\n",
    "threshold = 200\n",
    "\n",
    "# しきい値よりも濃い（暗い）ピクセルの数をカウント\n",
    "dark_pixels = np.sum(image_array < threshold)\n",
    "\n",
    "# 全体のピクセル数を取得\n",
    "total_pixels = image_array.size\n",
    "\n",
    "# 濃いピクセルの割合を計算\n",
    "dark_pixel_ratio = dark_pixels / total_pixels\n",
    "\n",
    "print(f'濃いピクセルの割合: {dark_pixel_ratio:.2%}')"
   ]
  },
  {
   "cell_type": "code",
   "execution_count": 5,
   "metadata": {},
   "outputs": [
    {
     "name": "stdout",
     "output_type": "stream",
     "text": [
      "ピクセル値 163: 518個\n",
      "ピクセル値 164: 130個\n",
      "ピクセル値 165: 844個\n",
      "ピクセル値 166: 182個\n",
      "ピクセル値 167: 1892個\n",
      "ピクセル値 168: 1752個\n",
      "ピクセル値 169: 3378個\n",
      "ピクセル値 170: 3834個\n",
      "ピクセル値 171: 7316個\n",
      "ピクセル値 172: 8196個\n",
      "ピクセル値 173: 1924796個\n",
      "ピクセル値 174: 6238個\n",
      "ピクセル値 175: 3884個\n",
      "ピクセル値 176: 2470個\n",
      "ピクセル値 177: 2076個\n",
      "ピクセル値 178: 1324個\n",
      "ピクセル値 179: 416個\n",
      "ピクセル値 180: 610個\n",
      "ピクセル値 181: 168個\n",
      "ピクセル値 182: 234個\n",
      "ピクセル値 183: 364個\n",
      "ピクセル値 184: 364個\n",
      "ピクセル値 185: 350個\n",
      "ピクセル値 186: 220個\n",
      "ピクセル値 187: 298個\n",
      "ピクセル値 188: 182個\n",
      "ピクセル値 189: 390個\n",
      "ピクセル値 191: 192個\n",
      "ピクセル値 195: 182個\n",
      "ピクセル値 200: 416個\n",
      "ピクセル値 202: 168個\n",
      "ピクセル値 203: 520個\n",
      "ピクセル値 204: 192個\n",
      "ピクセル値 205: 312個\n",
      "ピクセル値 206: 234個\n",
      "ピクセル値 211: 182個\n",
      "ピクセル値 212: 374個\n",
      "ピクセル値 214: 52個\n",
      "ピクセル値 216: 360個\n",
      "ピクセル値 217: 208個\n",
      "ピクセル値 218: 376個\n",
      "ピクセル値 219: 130個\n",
      "ピクセル値 221: 182個\n",
      "ピクセル値 222: 336個\n",
      "ピクセル値 224: 244個\n",
      "ピクセル値 225: 350個\n",
      "ピクセル値 226: 182個\n",
      "ピクセル値 227: 376個\n",
      "ピクセル値 228: 182個\n",
      "ピクセル値 229: 582個\n",
      "ピクセル値 230: 312個\n",
      "ピクセル値 231: 182個\n",
      "ピクセル値 237: 182個\n",
      "ピクセル値 238: 182個\n",
      "ピクセル値 239: 390個\n",
      "ピクセル値 240: 572個\n",
      "ピクセル値 241: 192個\n",
      "ピクセル値 242: 390個\n",
      "ピクセル値 243: 192個\n",
      "ピクセル値 244: 182個\n",
      "ピクセル値 245: 182個\n",
      "ピクセル値 246: 1336個\n",
      "ピクセル値 247: 2058個\n",
      "ピクセル値 248: 1450個\n",
      "ピクセル値 249: 1878個\n",
      "ピクセル値 250: 2906個\n",
      "ピクセル値 251: 2432個\n",
      "ピクセル値 252: 5476個\n",
      "ピクセル値 253: 55079個\n",
      "ピクセル値 254: 15655個\n",
      "ピクセル値 255: 3614個\n"
     ]
    }
   ],
   "source": [
    "# 各ピクセル値の出現数をカウント\n",
    "pixel_counts = np.bincount(image_array.flatten(), minlength=256)\n",
    "\n",
    "# 結果を表示\n",
    "for value, count in enumerate(pixel_counts):\n",
    "    # ピクセル値0は除外\n",
    "    if count != 0:\n",
    "        print(f'ピクセル値 {value}: {count}個')"
   ]
  },
  {
   "cell_type": "code",
   "execution_count": null,
   "metadata": {},
   "outputs": [],
   "source": []
  }
 ],
 "metadata": {
  "kernelspec": {
   "display_name": "Python 3",
   "language": "python",
   "name": "python3"
  },
  "language_info": {
   "codemirror_mode": {
    "name": "ipython",
    "version": 3
   },
   "file_extension": ".py",
   "mimetype": "text/x-python",
   "name": "python",
   "nbconvert_exporter": "python",
   "pygments_lexer": "ipython3",
   "version": "3.12.1"
  }
 },
 "nbformat": 4,
 "nbformat_minor": 2
}
